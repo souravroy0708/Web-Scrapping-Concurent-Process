{
 "cells": [
  {
   "cell_type": "markdown",
   "metadata": {},
   "source": [
    "# Problem Statement\n",
    "Using python&#39;s multiprocessing and any one of threading/gevent module, task is to write a\n",
    "\n",
    "web-scraper which takes a huge file as an input ( 1Million rows ) which contains a url in\n",
    "\n",
    "each line.\n",
    "\n",
    "The scraper then uses BeatuifulSoup to parse the content and finds if the content contains\n",
    "\n",
    "&quot;jquery.js&quot;. If it does, dump the url into a file &quot;accepted.csv&quot; or if it doesn&#39;t, dump it into file\n",
    "\n",
    "&quot;rejected.csv&quot;.  \n",
    "\n",
    "In a nutshell, the scraper classifies if the site uses jquery or not.\n",
    "\n",
    "The scraper should perform as efficiently as possible, utilizing the maximum compute\n",
    "\n",
    "power on any machine ( it&#39;s fine if some tuning is hardcoded ), and it should process all the\n",
    "\n",
    "rows and reach the end state gracefully. ( i.e. Exception handling, honey-trap defense etc ).\n",
    "\n",
    "The prerequisite for judging would be a stable code which runs smoothly for a couple 100\n",
    "\n",
    "rows. Deciding factor would be the efficiency and speed of processing the batch of 1Million\n",
    "\n",
    "urls, without compromizing the stability"
   ]
  },
  {
   "cell_type": "code",
   "execution_count": 506,
   "metadata": {
    "collapsed": false
   },
   "outputs": [],
   "source": [
    "import mechanize\n",
    "from BeautifulSoup import BeautifulSoup, SoupStrainer\n",
    "import urllib2\n",
    "import pandas as pd\n",
    "import re\n",
    "import gevent"
   ]
  },
  {
   "cell_type": "markdown",
   "metadata": {},
   "source": [
    "# Create Input file through web scraping"
   ]
  },
  {
   "cell_type": "code",
   "execution_count": 524,
   "metadata": {
    "collapsed": false
   },
   "outputs": [],
   "source": [
    "urlList = []\n",
    "def get_url_list(rootURL):\n",
    "    \"\"\"\n",
    "    Scrap URL from webpage\n",
    "    \"\"\"\n",
    "    br = mechanize.Browser()\n",
    "    # ignore robots\n",
    "    br.set_handle_robots(False)\n",
    "    try:\n",
    "        response = br.open(rootURL)\n",
    "    except:    \n",
    "        print \"Error to scrap  URL :  %s\" %(rootURL)\n",
    "        response = None\n",
    "    if response:\n",
    "        for link in BeautifulSoup(response, parseOnlyThese=SoupStrainer(('script','link','a'))): \n",
    "            url = None\n",
    "            if link.has_key('src'):\n",
    "                url = link['src']\n",
    "            elif link.has_key('href'):\n",
    "                url = link['href']\n",
    "            if url:\n",
    "                if re.findall(\"^(www|http)\", url):\n",
    "                    url = url \n",
    "                else:\n",
    "                    #In relative url add base url\n",
    "                    url = \"/\".join([rootURL,url.strip(\"/\")])\n",
    "                #Converted jquery-1.3.0.js to jquery.js\n",
    "                if 'jquery' in url:\n",
    "                    version_removed_url = re.sub('[-0-9.]', '', url,6) \n",
    "                    urlList.append(version_removed_url)\n",
    "                urlList.append(url)"
   ]
  },
  {
   "cell_type": "markdown",
   "metadata": {},
   "source": [
    "# We can change inputURLS list value to any URL"
   ]
  },
  {
   "cell_type": "code",
   "execution_count": 508,
   "metadata": {
    "collapsed": false
   },
   "outputs": [],
   "source": [
    "inputURLS = ['https://code.jquery.com/jquery','http://www.adcuratio.com','http://www.golabs.in','http://www.amazon.in']\n",
    "for inputURL in inputURLS:\n",
    "        get_url_list(inputURL)        "
   ]
  },
  {
   "cell_type": "markdown",
   "metadata": {},
   "source": [
    "# Dump all URL into input.csv file"
   ]
  },
  {
   "cell_type": "code",
   "execution_count": 509,
   "metadata": {
    "collapsed": false
   },
   "outputs": [],
   "source": [
    "pd.DataFrame({'URL':list(set(urlList))}).to_csv('input.csv',index=None)"
   ]
  },
  {
   "cell_type": "markdown",
   "metadata": {},
   "source": [
    "# Load input.csv file"
   ]
  },
  {
   "cell_type": "code",
   "execution_count": 510,
   "metadata": {
    "collapsed": true
   },
   "outputs": [],
   "source": [
    "inputFile = pd.read_csv('input.csv')"
   ]
  },
  {
   "cell_type": "code",
   "execution_count": 511,
   "metadata": {
    "collapsed": false
   },
   "outputs": [],
   "source": [
    "pd.set_option('display.max_colwidth',1000)"
   ]
  },
  {
   "cell_type": "code",
   "execution_count": 512,
   "metadata": {
    "collapsed": false
   },
   "outputs": [
    {
     "data": {
      "text/plain": [
       "(534, 1)"
      ]
     },
     "execution_count": 512,
     "metadata": {},
     "output_type": "execute_result"
    }
   ],
   "source": [
    "inputFile.shape"
   ]
  },
  {
   "cell_type": "code",
   "execution_count": 513,
   "metadata": {
    "collapsed": false,
    "scrolled": true
   },
   "outputs": [
    {
     "data": {
      "text/html": [
       "<div>\n",
       "<table border=\"1\" class=\"dataframe\">\n",
       "  <thead>\n",
       "    <tr style=\"text-align: right;\">\n",
       "      <th></th>\n",
       "      <th>URL</th>\n",
       "    </tr>\n",
       "  </thead>\n",
       "  <tbody>\n",
       "    <tr>\n",
       "      <th>0</th>\n",
       "      <td>https://code.jquery.com/jquery/jquery-1.4.2.js</td>\n",
       "    </tr>\n",
       "    <tr>\n",
       "      <th>1</th>\n",
       "      <td>https://code.jquery.com/jquery/jquery-1.11.0.min.js</td>\n",
       "    </tr>\n",
       "    <tr>\n",
       "      <th>2</th>\n",
       "      <td>http://www.golabs.in/static/css/style.css</td>\n",
       "    </tr>\n",
       "    <tr>\n",
       "      <th>3</th>\n",
       "      <td>https://code.jquery.com/jquery/jquery-3.0.0.js</td>\n",
       "    </tr>\n",
       "    <tr>\n",
       "      <th>4</th>\n",
       "      <td>http://contribute.jquery.org/</td>\n",
       "    </tr>\n",
       "  </tbody>\n",
       "</table>\n",
       "</div>"
      ],
      "text/plain": [
       "                                                   URL\n",
       "0       https://code.jquery.com/jquery/jquery-1.4.2.js\n",
       "1  https://code.jquery.com/jquery/jquery-1.11.0.min.js\n",
       "2            http://www.golabs.in/static/css/style.css\n",
       "3       https://code.jquery.com/jquery/jquery-3.0.0.js\n",
       "4                        http://contribute.jquery.org/"
      ]
     },
     "execution_count": 513,
     "metadata": {},
     "output_type": "execute_result"
    }
   ],
   "source": [
    "inputFile.head()"
   ]
  },
  {
   "cell_type": "markdown",
   "metadata": {},
   "source": [
    "# Code to parse input.csv file content"
   ]
  },
  {
   "cell_type": "code",
   "execution_count": 514,
   "metadata": {
    "collapsed": false
   },
   "outputs": [],
   "source": [
    "inputCSVURLList = [str(url) for url in inputFile['URL']]\n",
    "inputURLLength = len(inputCSVURLList)"
   ]
  },
  {
   "cell_type": "code",
   "execution_count": 515,
   "metadata": {
    "collapsed": false
   },
   "outputs": [
    {
     "name": "stdout",
     "output_type": "stream",
     "text": [
      "Total No Of URL 534\n"
     ]
    }
   ],
   "source": [
    "print \"Total No Of URL %s\" %(inputURLLength)"
   ]
  },
  {
   "cell_type": "code",
   "execution_count": 516,
   "metadata": {
    "collapsed": true
   },
   "outputs": [],
   "source": [
    "def check_accepted_rejected_url(URL):\n",
    "    \"\"\"\n",
    "    To check if URL contains jquery.js then retuen true other wise false\n",
    "    \"\"\"\n",
    "    accepted = False\n",
    "    soup = BeautifulSoup(URL)\n",
    "    #matched = soup.findAll(text=re.compile('jquery.js'))\n",
    "    text = soup.text\n",
    "    if 'jquery.js' in text:\n",
    "        accepted = True\n",
    "    return accepted\n",
    "         "
   ]
  },
  {
   "cell_type": "code",
   "execution_count": 534,
   "metadata": {
    "collapsed": true
   },
   "outputs": [],
   "source": [
    "def classify_accept_rejected_url(startIndex,endIndex):\n",
    "    \"\"\"\n",
    "    Classify and write url in accepted and rejected csv file\n",
    "    \"\"\"\n",
    "    print \"Start index %s and End index %s\" %(startIndex,endIndex)\n",
    "    inputURList = inputCSVURLList[startIndex:endIndex]\n",
    "    for url in inputURList:\n",
    "        is_accepted = check_accepted_rejected_url(url)\n",
    "        if is_accepted:\n",
    "            pd.DataFrame({\"URL\":[url]}).to_csv('accepted.csv',index=None,header=None,mode='a') \n",
    "        else:\n",
    "            pd.DataFrame({\"URL\":[url]}).to_csv('rejected.csv',index=None,header=None,mode='a')"
   ]
  },
  {
   "cell_type": "code",
   "execution_count": 539,
   "metadata": {
    "collapsed": false
   },
   "outputs": [],
   "source": [
    "def asynchronous(batchSize=10,batchCount=None):\n",
    "    \"\"\"\n",
    "    Use gevent module for python asynchronous call.We can configure asynchronous call \n",
    "    with totalbatch size and total batch we want to execute concurently\n",
    "    \"\"\"\n",
    "    if not batchCount:\n",
    "        batchCount = int(inputURLLength/batchSize)\n",
    "    threads = [gevent.spawn(classify_accept_rejected_url,batchSize*currentBatch,batchSize*currentBatch+batchSize) for currentBatch in range(0,batchCount)]\n",
    "    print \"Threads \",threads\n",
    "    gevent.joinall(threads)"
   ]
  },
  {
   "cell_type": "markdown",
   "metadata": {},
   "source": [
    "# Execute program with configurable batch size and total no of batch to execute"
   ]
  },
  {
   "cell_type": "code",
   "execution_count": 536,
   "metadata": {
    "collapsed": false
   },
   "outputs": [
    {
     "name": "stdout",
     "output_type": "stream",
     "text": [
      "Threads  [<Greenlet at 0x7f00c406acd0: classify_accept_rejected_url(0, 10)>, <Greenlet at 0x7f00c406aa50: classify_accept_rejected_url(10, 20)>, <Greenlet at 0x7f00c406a190: classify_accept_rejected_url(20, 30)>, <Greenlet at 0x7f00c4e81d70: classify_accept_rejected_url(30, 40)>, <Greenlet at 0x7f00c4e81c30: classify_accept_rejected_url(40, 50)>, <Greenlet at 0x7f00c4e81eb0: classify_accept_rejected_url(50, 60)>, <Greenlet at 0x7f00c4008eb0: classify_accept_rejected_url(60, 70)>, <Greenlet at 0x7f00c4008e10: classify_accept_rejected_url(70, 80)>, <Greenlet at 0x7f00c4008f50: classify_accept_rejected_url(80, 90)>, <Greenlet at 0x7f00c4008550: classify_accept_rejected_url(90, 100)>, <Greenlet at 0x7f00c4008af0: classify_accept_rejected_url(100, 110)>, <Greenlet at 0x7f00c40080f0: classify_accept_rejected_url(110, 120)>, <Greenlet at 0x7f00c4421410: classify_accept_rejected_url(120, 130)>, <Greenlet at 0x7f00c4421c30: classify_accept_rejected_url(130, 140)>, <Greenlet at 0x7f00c44219b0: classify_accept_rejected_url(140, 150)>, <Greenlet at 0x7f00c44215f0: classify_accept_rejected_url(150, 160)>, <Greenlet at 0x7f00c4421050: classify_accept_rejected_url(160, 170)>, <Greenlet at 0x7f00c4479b90: classify_accept_rejected_url(170, 180)>, <Greenlet at 0x7f00c4479eb0: classify_accept_rejected_url(180, 190)>, <Greenlet at 0x7f00c44792d0: classify_accept_rejected_url(190, 200)>, <Greenlet at 0x7f00c4479370: classify_accept_rejected_url(200, 210)>, <Greenlet at 0x7f00c44799b0: classify_accept_rejected_url(210, 220)>, <Greenlet at 0x7f00c4479af0: classify_accept_rejected_url(220, 230)>, <Greenlet at 0x7f00c4479550: classify_accept_rejected_url(230, 240)>, <Greenlet at 0x7f00c44797d0: classify_accept_rejected_url(240, 250)>, <Greenlet at 0x7f00c44795f0: classify_accept_rejected_url(250, 260)>, <Greenlet at 0x7f00c4479d70: classify_accept_rejected_url(260, 270)>, <Greenlet at 0x7f00c4479e10: classify_accept_rejected_url(270, 280)>, <Greenlet at 0x7f00c24b5230: classify_accept_rejected_url(280, 290)>, <Greenlet at 0x7f00c24b5370: classify_accept_rejected_url(290, 300)>, <Greenlet at 0x7f00c24b52d0: classify_accept_rejected_url(300, 310)>, <Greenlet at 0x7f00c24b5190: classify_accept_rejected_url(310, 320)>, <Greenlet at 0x7f00c24b5410: classify_accept_rejected_url(320, 330)>, <Greenlet at 0x7f00c24b54b0: classify_accept_rejected_url(330, 340)>, <Greenlet at 0x7f00c24b5550: classify_accept_rejected_url(340, 350)>, <Greenlet at 0x7f00c24b55f0: classify_accept_rejected_url(350, 360)>, <Greenlet at 0x7f00c24b5690: classify_accept_rejected_url(360, 370)>, <Greenlet at 0x7f00c24b5730: classify_accept_rejected_url(370, 380)>, <Greenlet at 0x7f00c24b57d0: classify_accept_rejected_url(380, 390)>, <Greenlet at 0x7f00c24b5870: classify_accept_rejected_url(390, 400)>, <Greenlet at 0x7f00c24b5910: classify_accept_rejected_url(400, 410)>, <Greenlet at 0x7f00c24b59b0: classify_accept_rejected_url(410, 420)>, <Greenlet at 0x7f00c24b5a50: classify_accept_rejected_url(420, 430)>, <Greenlet at 0x7f00c24b5af0: classify_accept_rejected_url(430, 440)>, <Greenlet at 0x7f00c24b5b90: classify_accept_rejected_url(440, 450)>, <Greenlet at 0x7f00c24b5c30: classify_accept_rejected_url(450, 460)>, <Greenlet at 0x7f00c24b5cd0: classify_accept_rejected_url(460, 470)>, <Greenlet at 0x7f00c24b5d70: classify_accept_rejected_url(470, 480)>, <Greenlet at 0x7f00c24b5e10: classify_accept_rejected_url(480, 490)>, <Greenlet at 0x7f00c24b5eb0: classify_accept_rejected_url(490, 500)>, <Greenlet at 0x7f00c24b5f50: classify_accept_rejected_url(500, 510)>, <Greenlet at 0x7f00c407c050: classify_accept_rejected_url(510, 520)>, <Greenlet at 0x7f00c407c0f0: classify_accept_rejected_url(520, 530)>]\n",
      "Start index 0 and End index 10\n",
      "Start index 10 and End index 20\n",
      "Start index 20 and End index 30\n",
      "Start index 30 and End index 40\n",
      "Start index 40 and End index 50\n",
      "Start index 50 and End index 60\n",
      "Start index 60 and End index 70\n",
      "Start index 70 and End index 80\n",
      "Start index 80 and End index 90\n",
      "Start index 90 and End index 100\n",
      "Start index 100 and End index 110\n",
      "Start index 110 and End index 120\n",
      "Start index 120 and End index 130\n",
      "Start index 130 and End index 140\n",
      "Start index 140 and End index 150\n",
      "Start index 150 and End index 160\n",
      "Start index 160 and End index 170\n",
      "Start index 170 and End index 180\n",
      "Start index 180 and End index 190\n",
      "Start index 190 and End index 200\n",
      "Start index 200 and End index 210\n",
      "Start index 210 and End index 220\n",
      "Start index 220 and End index 230\n",
      "Start index 230 and End index 240\n",
      "Start index 240 and End index 250\n",
      "Start index 250 and End index 260\n",
      "Start index 260 and End index 270\n",
      "Start index 270 and End index 280\n",
      "Start index 280 and End index 290\n",
      "Start index 290 and End index 300\n",
      "Start index 300 and End index 310\n",
      "Start index 310 and End index 320\n",
      "Start index 320 and End index 330\n",
      "Start index 330 and End index 340\n",
      "Start index 340 and End index 350\n",
      "Start index 350 and End index 360\n",
      "Start index 360 and End index 370\n",
      "Start index 370 and End index 380\n",
      "Start index 380 and End index 390\n",
      "Start index 390 and End index 400\n",
      "Start index 400 and End index 410\n",
      "Start index 410 and End index 420\n",
      "Start index 420 and End index 430\n",
      "Start index 430 and End index 440\n",
      "Start index 440 and End index 450\n",
      "Start index 450 and End index 460\n",
      "Start index 460 and End index 470\n",
      "Start index 470 and End index 480\n",
      "Start index 480 and End index 490\n",
      "Start index 490 and End index 500\n",
      "Start index 500 and End index 510\n",
      "Start index 510 and End index 520\n",
      "Start index 520 and End index 530\n"
     ]
    }
   ],
   "source": [
    "#If we are not set any batch size it will take default batch size and process all record\n",
    "asynchronous()"
   ]
  },
  {
   "cell_type": "markdown",
   "metadata": {},
   "source": [
    "# Read accepted.csv and rejected.csv file for vefify "
   ]
  },
  {
   "cell_type": "code",
   "execution_count": 537,
   "metadata": {
    "collapsed": false
   },
   "outputs": [
    {
     "data": {
      "text/html": [
       "<div>\n",
       "<table border=\"1\" class=\"dataframe\">\n",
       "  <thead>\n",
       "    <tr style=\"text-align: right;\">\n",
       "      <th></th>\n",
       "      <th>0</th>\n",
       "    </tr>\n",
       "  </thead>\n",
       "  <tbody>\n",
       "    <tr>\n",
       "      <th>0</th>\n",
       "      <td>https://codejquerycom/jquery/jquery.js</td>\n",
       "    </tr>\n",
       "  </tbody>\n",
       "</table>\n",
       "</div>"
      ],
      "text/plain": [
       "                                        0\n",
       "0  https://codejquerycom/jquery/jquery.js"
      ]
     },
     "execution_count": 537,
     "metadata": {},
     "output_type": "execute_result"
    }
   ],
   "source": [
    "accepted_csv = pd.read_csv('accepted.csv',header=None)\n",
    "accepted_csv"
   ]
  },
  {
   "cell_type": "code",
   "execution_count": 538,
   "metadata": {
    "collapsed": false
   },
   "outputs": [
    {
     "data": {
      "text/html": [
       "<div>\n",
       "<table border=\"1\" class=\"dataframe\">\n",
       "  <thead>\n",
       "    <tr style=\"text-align: right;\">\n",
       "      <th></th>\n",
       "      <th>0</th>\n",
       "    </tr>\n",
       "  </thead>\n",
       "  <tbody>\n",
       "    <tr>\n",
       "      <th>0</th>\n",
       "      <td>https://code.jquery.com/jquery/jquery-1.4.2.js</td>\n",
       "    </tr>\n",
       "    <tr>\n",
       "      <th>1</th>\n",
       "      <td>https://code.jquery.com/jquery/jquery-1.11.0.min.js</td>\n",
       "    </tr>\n",
       "    <tr>\n",
       "      <th>2</th>\n",
       "      <td>http://www.golabs.in/static/css/style.css</td>\n",
       "    </tr>\n",
       "    <tr>\n",
       "      <th>3</th>\n",
       "      <td>https://code.jquery.com/jquery/jquery-3.0.0.js</td>\n",
       "    </tr>\n",
       "    <tr>\n",
       "      <th>4</th>\n",
       "      <td>http://contribute.jquery.org/</td>\n",
       "    </tr>\n",
       "    <tr>\n",
       "      <th>5</th>\n",
       "      <td>https://code.jquery.com/jquery/jquery-1.6.2.js</td>\n",
       "    </tr>\n",
       "    <tr>\n",
       "      <th>6</th>\n",
       "      <td>https://code.jquery.com/jquery/jquery-1.2.1.pack.js</td>\n",
       "    </tr>\n",
       "    <tr>\n",
       "      <th>7</th>\n",
       "      <td>http://irc.jquery.org/</td>\n",
       "    </tr>\n",
       "    <tr>\n",
       "      <th>8</th>\n",
       "      <td>http://www.amazon.in/g-ecx.images-amazon.com</td>\n",
       "    </tr>\n",
       "    <tr>\n",
       "      <th>9</th>\n",
       "      <td>http://www.amazon.de/ref=footer_de</td>\n",
       "    </tr>\n",
       "    <tr>\n",
       "      <th>10</th>\n",
       "      <td>https://codejquerycom/jquery/jquerymigrate0.0.js</td>\n",
       "    </tr>\n",
       "    <tr>\n",
       "      <th>11</th>\n",
       "      <td>http://plugins.jquery.com/</td>\n",
       "    </tr>\n",
       "    <tr>\n",
       "      <th>12</th>\n",
       "      <td>https://codejquerycom/jquery/jquery2.4.js</td>\n",
       "    </tr>\n",
       "    <tr>\n",
       "      <th>13</th>\n",
       "      <td>http://contributejqueryorg/documentation/</td>\n",
       "    </tr>\n",
       "    <tr>\n",
       "      <th>14</th>\n",
       "      <td>http://www.golabs.in/static/js/wow.min.js</td>\n",
       "    </tr>\n",
       "    <tr>\n",
       "      <th>15</th>\n",
       "      <td>https://code.jquery.com/jquery/codeorigin.jquery.com/jquery-wp-content/themes/jquery/js/modernizr.custom.2.8.3.min.js</td>\n",
       "    </tr>\n",
       "    <tr>\n",
       "      <th>16</th>\n",
       "      <td>https://code.jquery.com/jquery/jquery-2.0.3.js</td>\n",
       "    </tr>\n",
       "    <tr>\n",
       "      <th>17</th>\n",
       "      <td>https://codejquerycom/jquery1.3.js</td>\n",
       "    </tr>\n",
       "    <tr>\n",
       "      <th>18</th>\n",
       "      <td>http://aws.amazon.com/what-is-cloud-computing/?sc_channel=EL&amp;sc_campaign=IN_amazonfooter</td>\n",
       "    </tr>\n",
       "    <tr>\n",
       "      <th>19</th>\n",
       "      <td>https://code.jquery.com/jquery/jquery-1.2.3.js</td>\n",
       "    </tr>\n",
       "    <tr>\n",
       "      <th>20</th>\n",
       "      <td>http://www.stackpath.com</td>\n",
       "    </tr>\n",
       "    <tr>\n",
       "      <th>21</th>\n",
       "      <td>http://www.amazon.in/ecx.images-amazon.com</td>\n",
       "    </tr>\n",
       "    <tr>\n",
       "      <th>22</th>\n",
       "      <td>https://codejquerycom/jquery/jquerymigrate2.0.js</td>\n",
       "    </tr>\n",
       "    <tr>\n",
       "      <th>23</th>\n",
       "      <td>http://www.amazon.in/Online-Charity/b?ie=UTF8&amp;node=4594605031</td>\n",
       "    </tr>\n",
       "    <tr>\n",
       "      <th>24</th>\n",
       "      <td>http://digitalocean.com</td>\n",
       "    </tr>\n",
       "    <tr>\n",
       "      <th>25</th>\n",
       "      <td>https://codejquerycom/jquery/jquery0.1.js</td>\n",
       "    </tr>\n",
       "    <tr>\n",
       "      <th>26</th>\n",
       "      <td>https://www.instagram.com/amazondotin/</td>\n",
       "    </tr>\n",
       "    <tr>\n",
       "      <th>27</th>\n",
       "      <td>https://www.manning.com/books/jquery-in-action-third-edition?a_bid=bdd5b7ad&amp;a_aid=141d9491</td>\n",
       "    </tr>\n",
       "    <tr>\n",
       "      <th>28</th>\n",
       "      <td>http://z-ecx.images-amazon.com/images/G/01/AUIClients/AmazonGatewayHerotatorJS-8888969a38641e5695f846b70bea4c14e7cb8201._V2_.css#AUIClients/AmazonGatewayHerotatorJS.min</td>\n",
       "    </tr>\n",
       "    <tr>\n",
       "      <th>29</th>\n",
       "      <td>https://code.jquery.com/jquery/jquery-1.4.min.js</td>\n",
       "    </tr>\n",
       "    <tr>\n",
       "      <th>...</th>\n",
       "      <td>...</td>\n",
       "    </tr>\n",
       "    <tr>\n",
       "      <th>499</th>\n",
       "      <td>https://code.jquery.com/jquery/jquery-1.x-git.min.js</td>\n",
       "    </tr>\n",
       "    <tr>\n",
       "      <th>500</th>\n",
       "      <td>http://events.jquery.org/</td>\n",
       "    </tr>\n",
       "    <tr>\n",
       "      <th>501</th>\n",
       "      <td>https://github.com/jquery</td>\n",
       "    </tr>\n",
       "    <tr>\n",
       "      <th>502</th>\n",
       "      <td>https://codejquerycom/jquery/jquery2.1.js</td>\n",
       "    </tr>\n",
       "    <tr>\n",
       "      <th>503</th>\n",
       "      <td>https://code.jquery.com/jquery/jquery-1.0.3.pack.js</td>\n",
       "    </tr>\n",
       "    <tr>\n",
       "      <th>504</th>\n",
       "      <td>https://codejquerycom/jquery/jquerymigrate2.1.js</td>\n",
       "    </tr>\n",
       "    <tr>\n",
       "      <th>505</th>\n",
       "      <td>http://qunitjs.com/</td>\n",
       "    </tr>\n",
       "    <tr>\n",
       "      <th>506</th>\n",
       "      <td>https://codejquerycom/jquery/jquery1.0.js</td>\n",
       "    </tr>\n",
       "    <tr>\n",
       "      <th>507</th>\n",
       "      <td>https://code.jquery.com/jquery/jquery-1.11.1.js</td>\n",
       "    </tr>\n",
       "    <tr>\n",
       "      <th>508</th>\n",
       "      <td>https://code.jquery.com/jquery/jquery-migrate-1.2.0.min.js</td>\n",
       "    </tr>\n",
       "    <tr>\n",
       "      <th>509</th>\n",
       "      <td>https://codejquerycom/jquery/jquery0.2.min.js</td>\n",
       "    </tr>\n",
       "    <tr>\n",
       "      <th>510</th>\n",
       "      <td>https://code.jquery.com/jquery/jquery-1.2.4.pack.js</td>\n",
       "    </tr>\n",
       "    <tr>\n",
       "      <th>511</th>\n",
       "      <td>http://pluginsjquerycom/</td>\n",
       "    </tr>\n",
       "    <tr>\n",
       "      <th>512</th>\n",
       "      <td>https://code.jquery.com/jquery/jquery-3.1.0.slim.min.js</td>\n",
       "    </tr>\n",
       "    <tr>\n",
       "      <th>513</th>\n",
       "      <td>http://www.amazon.in/</td>\n",
       "    </tr>\n",
       "    <tr>\n",
       "      <th>514</th>\n",
       "      <td>https://code.jquery.com/jquery/jquery-1.3.2.js</td>\n",
       "    </tr>\n",
       "    <tr>\n",
       "      <th>515</th>\n",
       "      <td>https://codejquerycom/jquery/jquerymigrate3.0.min.js</td>\n",
       "    </tr>\n",
       "    <tr>\n",
       "      <th>516</th>\n",
       "      <td>https://code.jquery.com/jquery/jquery-1.4.1.min.js</td>\n",
       "    </tr>\n",
       "    <tr>\n",
       "      <th>517</th>\n",
       "      <td>https://code.jquery.com/jquery/jquery-1.6.2.min.js</td>\n",
       "    </tr>\n",
       "    <tr>\n",
       "      <th>518</th>\n",
       "      <td>https://code.jquery.com/jquery/jquery-migrate-1.2.1.min.js</td>\n",
       "    </tr>\n",
       "    <tr>\n",
       "      <th>519</th>\n",
       "      <td>https://jqueryorg/join/</td>\n",
       "    </tr>\n",
       "    <tr>\n",
       "      <th>520</th>\n",
       "      <td>http://ircjqueryorg/</td>\n",
       "    </tr>\n",
       "    <tr>\n",
       "      <th>521</th>\n",
       "      <td>https://code.jquery.com/jquery/codeorigin.jquery.com/wp-includes/js/wp-embed.min.js?ver=4.5.2</td>\n",
       "    </tr>\n",
       "    <tr>\n",
       "      <th>522</th>\n",
       "      <td>http://contributejqueryorg/code/</td>\n",
       "    </tr>\n",
       "    <tr>\n",
       "      <th>523</th>\n",
       "      <td>https://codejquerycom/jquery/jquery.6.min.js</td>\n",
       "    </tr>\n",
       "    <tr>\n",
       "      <th>524</th>\n",
       "      <td>http://www.amazon.com.mx/ref=footer_mx</td>\n",
       "    </tr>\n",
       "    <tr>\n",
       "      <th>525</th>\n",
       "      <td>https://code.jquery.com/jquery/jquery-1.0.2.pack.js</td>\n",
       "    </tr>\n",
       "    <tr>\n",
       "      <th>526</th>\n",
       "      <td>https://codejquerycom/jquery/jquerymigrategitjs</td>\n",
       "    </tr>\n",
       "    <tr>\n",
       "      <th>527</th>\n",
       "      <td>http://www.golabs.in/static/img/slide/aws-logo.png</td>\n",
       "    </tr>\n",
       "    <tr>\n",
       "      <th>528</th>\n",
       "      <td>http://www.golabs.in/static/js/classie.js</td>\n",
       "    </tr>\n",
       "  </tbody>\n",
       "</table>\n",
       "<p>529 rows × 1 columns</p>\n",
       "</div>"
      ],
      "text/plain": [
       "                                                                                                                                                                            0\n",
       "0                                                                                                                              https://code.jquery.com/jquery/jquery-1.4.2.js\n",
       "1                                                                                                                         https://code.jquery.com/jquery/jquery-1.11.0.min.js\n",
       "2                                                                                                                                   http://www.golabs.in/static/css/style.css\n",
       "3                                                                                                                              https://code.jquery.com/jquery/jquery-3.0.0.js\n",
       "4                                                                                                                                               http://contribute.jquery.org/\n",
       "5                                                                                                                              https://code.jquery.com/jquery/jquery-1.6.2.js\n",
       "6                                                                                                                         https://code.jquery.com/jquery/jquery-1.2.1.pack.js\n",
       "7                                                                                                                                                      http://irc.jquery.org/\n",
       "8                                                                                                                                http://www.amazon.in/g-ecx.images-amazon.com\n",
       "9                                                                                                                                          http://www.amazon.de/ref=footer_de\n",
       "10                                                                                                                           https://codejquerycom/jquery/jquerymigrate0.0.js\n",
       "11                                                                                                                                                 http://plugins.jquery.com/\n",
       "12                                                                                                                                  https://codejquerycom/jquery/jquery2.4.js\n",
       "13                                                                                                                                  http://contributejqueryorg/documentation/\n",
       "14                                                                                                                                  http://www.golabs.in/static/js/wow.min.js\n",
       "15                                                      https://code.jquery.com/jquery/codeorigin.jquery.com/jquery-wp-content/themes/jquery/js/modernizr.custom.2.8.3.min.js\n",
       "16                                                                                                                             https://code.jquery.com/jquery/jquery-2.0.3.js\n",
       "17                                                                                                                                         https://codejquerycom/jquery1.3.js\n",
       "18                                                                                   http://aws.amazon.com/what-is-cloud-computing/?sc_channel=EL&sc_campaign=IN_amazonfooter\n",
       "19                                                                                                                             https://code.jquery.com/jquery/jquery-1.2.3.js\n",
       "20                                                                                                                                                   http://www.stackpath.com\n",
       "21                                                                                                                                 http://www.amazon.in/ecx.images-amazon.com\n",
       "22                                                                                                                           https://codejquerycom/jquery/jquerymigrate2.0.js\n",
       "23                                                                                                              http://www.amazon.in/Online-Charity/b?ie=UTF8&node=4594605031\n",
       "24                                                                                                                                                    http://digitalocean.com\n",
       "25                                                                                                                                  https://codejquerycom/jquery/jquery0.1.js\n",
       "26                                                                                                                                     https://www.instagram.com/amazondotin/\n",
       "27                                                                                 https://www.manning.com/books/jquery-in-action-third-edition?a_bid=bdd5b7ad&a_aid=141d9491\n",
       "28   http://z-ecx.images-amazon.com/images/G/01/AUIClients/AmazonGatewayHerotatorJS-8888969a38641e5695f846b70bea4c14e7cb8201._V2_.css#AUIClients/AmazonGatewayHerotatorJS.min\n",
       "29                                                                                                                           https://code.jquery.com/jquery/jquery-1.4.min.js\n",
       "..                                                                                                                                                                        ...\n",
       "499                                                                                                                      https://code.jquery.com/jquery/jquery-1.x-git.min.js\n",
       "500                                                                                                                                                 http://events.jquery.org/\n",
       "501                                                                                                                                                 https://github.com/jquery\n",
       "502                                                                                                                                 https://codejquerycom/jquery/jquery2.1.js\n",
       "503                                                                                                                       https://code.jquery.com/jquery/jquery-1.0.3.pack.js\n",
       "504                                                                                                                          https://codejquerycom/jquery/jquerymigrate2.1.js\n",
       "505                                                                                                                                                       http://qunitjs.com/\n",
       "506                                                                                                                                 https://codejquerycom/jquery/jquery1.0.js\n",
       "507                                                                                                                           https://code.jquery.com/jquery/jquery-1.11.1.js\n",
       "508                                                                                                                https://code.jquery.com/jquery/jquery-migrate-1.2.0.min.js\n",
       "509                                                                                                                             https://codejquerycom/jquery/jquery0.2.min.js\n",
       "510                                                                                                                       https://code.jquery.com/jquery/jquery-1.2.4.pack.js\n",
       "511                                                                                                                                                  http://pluginsjquerycom/\n",
       "512                                                                                                                   https://code.jquery.com/jquery/jquery-3.1.0.slim.min.js\n",
       "513                                                                                                                                                     http://www.amazon.in/\n",
       "514                                                                                                                            https://code.jquery.com/jquery/jquery-1.3.2.js\n",
       "515                                                                                                                      https://codejquerycom/jquery/jquerymigrate3.0.min.js\n",
       "516                                                                                                                        https://code.jquery.com/jquery/jquery-1.4.1.min.js\n",
       "517                                                                                                                        https://code.jquery.com/jquery/jquery-1.6.2.min.js\n",
       "518                                                                                                                https://code.jquery.com/jquery/jquery-migrate-1.2.1.min.js\n",
       "519                                                                                                                                                   https://jqueryorg/join/\n",
       "520                                                                                                                                                      http://ircjqueryorg/\n",
       "521                                                                             https://code.jquery.com/jquery/codeorigin.jquery.com/wp-includes/js/wp-embed.min.js?ver=4.5.2\n",
       "522                                                                                                                                          http://contributejqueryorg/code/\n",
       "523                                                                                                                              https://codejquerycom/jquery/jquery.6.min.js\n",
       "524                                                                                                                                    http://www.amazon.com.mx/ref=footer_mx\n",
       "525                                                                                                                       https://code.jquery.com/jquery/jquery-1.0.2.pack.js\n",
       "526                                                                                                                           https://codejquerycom/jquery/jquerymigrategitjs\n",
       "527                                                                                                                        http://www.golabs.in/static/img/slide/aws-logo.png\n",
       "528                                                                                                                                 http://www.golabs.in/static/js/classie.js\n",
       "\n",
       "[529 rows x 1 columns]"
      ]
     },
     "execution_count": 538,
     "metadata": {},
     "output_type": "execute_result"
    }
   ],
   "source": [
    "rejected_csv = pd.read_csv('rejected.csv',header=None)\n",
    "rejected_csv"
   ]
  },
  {
   "cell_type": "code",
   "execution_count": null,
   "metadata": {
    "collapsed": true
   },
   "outputs": [],
   "source": []
  },
  {
   "cell_type": "code",
   "execution_count": null,
   "metadata": {
    "collapsed": true
   },
   "outputs": [],
   "source": []
  },
  {
   "cell_type": "code",
   "execution_count": null,
   "metadata": {
    "collapsed": true
   },
   "outputs": [],
   "source": []
  },
  {
   "cell_type": "code",
   "execution_count": null,
   "metadata": {
    "collapsed": true
   },
   "outputs": [],
   "source": []
  }
 ],
 "metadata": {
  "anaconda-cloud": {},
  "kernelspec": {
   "display_name": "Python [default]",
   "language": "python",
   "name": "python2"
  },
  "language_info": {
   "codemirror_mode": {
    "name": "ipython",
    "version": 2
   },
   "file_extension": ".py",
   "mimetype": "text/x-python",
   "name": "python",
   "nbconvert_exporter": "python",
   "pygments_lexer": "ipython2",
   "version": "2.7.12"
  }
 },
 "nbformat": 4,
 "nbformat_minor": 1
}
